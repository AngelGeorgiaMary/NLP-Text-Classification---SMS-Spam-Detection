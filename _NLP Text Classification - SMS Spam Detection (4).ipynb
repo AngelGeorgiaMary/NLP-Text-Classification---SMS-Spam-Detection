{
 "cells": [
  {
   "cell_type": "code",
   "execution_count": 21,
   "id": "33c2ccd8-a606-4800-b708-2ddec4784b99",
   "metadata": {},
   "outputs": [],
   "source": [
    "# NLP Text Classification - SMS Spam Detection\n",
    "# Dataset: SMS Spam Collection Dataset"
   ]
  },
  {
   "cell_type": "code",
   "execution_count": 22,
   "id": "42c672e1-22bd-4f5f-82b0-0af299bf681d",
   "metadata": {},
   "outputs": [],
   "source": [
    "#  Import Libraries"
   ]
  },
  {
   "cell_type": "code",
   "execution_count": 23,
   "id": "0521d918-6713-4f46-a2ef-7a61bf6a8977",
   "metadata": {},
   "outputs": [],
   "source": [
    "import pandas as pd\n",
    "import numpy as np\n",
    "from sklearn.model_selection import train_test_split\n",
    "from sklearn.feature_extraction.text import TfidfVectorizer\n",
    "from sklearn.linear_model import LogisticRegression\n",
    "from sklearn.metrics import classification_report, confusion_matrix, accuracy_score\n",
    "import matplotlib.pyplot as plt\n",
    "import seaborn as sns\n",
    "import random"
   ]
  },
  {
   "cell_type": "code",
   "execution_count": 24,
   "id": "b9d16d28-c1b2-46fb-b827-fdad80c61b6d",
   "metadata": {},
   "outputs": [],
   "source": [
    "# 2. Data Loading and Exploration"
   ]
  },
  {
   "cell_type": "code",
   "execution_count": 25,
   "id": "34fb4129-a9ab-4ba9-be9b-2b5a8e0c242c",
   "metadata": {},
   "outputs": [
    {
     "name": "stdout",
     "output_type": "stream",
     "text": [
      "Data Loaded Successfully!\n",
      "  label                                            message\n",
      "0   ham  Go until jurong point, crazy.. Available only ...\n",
      "1   ham                      Ok lar... Joking wif u oni...\n",
      "2  spam  Free entry in 2 a wkly comp to win FA Cup fina...\n",
      "3   ham  U dun say so early hor... U c already then say...\n",
      "4   ham  Nah I don't think he goes to usf, he lives aro...\n"
     ]
    }
   ],
   "source": [
    "data = pd.read_csv(r\"C:\\Users\\Verghese\\Downloads\\spam.csv\", encoding='latin-1')\n",
    "data = data.rename(columns={'v1': 'label', 'v2': 'message'})\n",
    "data = data[['label', 'message']]\n",
    "print(\"Data Loaded Successfully!\")\n",
    "print(data.head())"
   ]
  },
  {
   "cell_type": "code",
   "execution_count": 26,
   "id": "88b0754c-8715-40a8-b0c4-790afb3524ab",
   "metadata": {},
   "outputs": [],
   "source": [
    "# Data Preprocessing\n",
    "# Convert labels to binary"
   ]
  },
  {
   "cell_type": "code",
   "execution_count": 27,
   "id": "a95520ee-b54f-462a-bd09-7e54ae329116",
   "metadata": {},
   "outputs": [
    {
     "name": "stdout",
     "output_type": "stream",
     "text": [
      "   label                                            message\n",
      "0      0  Go until jurong point, crazy.. Available only ...\n",
      "1      0                      Ok lar... Joking wif u oni...\n",
      "2      1  Free entry in 2 a wkly comp to win FA Cup fina...\n",
      "3      0  U dun say so early hor... U c already then say...\n",
      "4      0  Nah I don't think he goes to usf, he lives aro...\n"
     ]
    }
   ],
   "source": [
    "data['label'] = data['label'].map({'ham': 0, 'spam': 1})\n",
    "print(data.head())"
   ]
  },
  {
   "cell_type": "code",
   "execution_count": 28,
   "id": "e829a4ed-3941-46f7-bae9-bffe39378b51",
   "metadata": {},
   "outputs": [],
   "source": [
    "# Text vectorization"
   ]
  },
  {
   "cell_type": "code",
   "execution_count": 29,
   "id": "fc1db273-0a6c-416c-84a2-a2f04510ff45",
   "metadata": {},
   "outputs": [
    {
     "name": "stdout",
     "output_type": "stream",
     "text": [
      "Shape of X (TF-IDF features): (5572, 3000)\n",
      "Shape of y (labels): (5572,)\n"
     ]
    }
   ],
   "source": [
    "tfidf = TfidfVectorizer(max_features=3000)\n",
    "X = tfidf.fit_transform(data['message']).toarray()\n",
    "y = data['label']\n",
    "\n",
    "print(\"Shape of X (TF-IDF features):\", X.shape)\n",
    "print(\"Shape of y (labels):\", y.shape)"
   ]
  },
  {
   "cell_type": "code",
   "execution_count": 30,
   "id": "26c33e7e-e90e-4d7b-8f8e-25be313d6c26",
   "metadata": {},
   "outputs": [],
   "source": [
    "# Train-Test Split"
   ]
  },
  {
   "cell_type": "code",
   "execution_count": 31,
   "id": "a2cc35db-9c32-4459-b4cc-d4e74343bbf6",
   "metadata": {},
   "outputs": [],
   "source": [
    "X_train, X_test, y_train, y_test = train_test_split(X, y, test_size=0.2, random_state=42)"
   ]
  },
  {
   "cell_type": "code",
   "execution_count": 32,
   "id": "a9f51ce2-fa65-4741-9150-3ce98324a6ab",
   "metadata": {},
   "outputs": [],
   "source": [
    "# Model Building and Training"
   ]
  },
  {
   "cell_type": "code",
   "execution_count": 33,
   "id": "61f02a5b-0a47-49ba-8aeb-fdd43a0e91af",
   "metadata": {},
   "outputs": [
    {
     "name": "stdout",
     "output_type": "stream",
     "text": [
      "Logistic Regression model trained successfully!\n"
     ]
    }
   ],
   "source": [
    "model = LogisticRegression(max_iter=1000)\n",
    "model.fit(X_train, y_train)\n",
    "\n",
    "print(\"Logistic Regression model trained successfully!\")"
   ]
  },
  {
   "cell_type": "code",
   "execution_count": 34,
   "id": "0e5bdc9b-6a51-4d95-a94f-897c74b6337d",
   "metadata": {},
   "outputs": [],
   "source": [
    "# Evaluation"
   ]
  },
  {
   "cell_type": "code",
   "execution_count": 35,
   "id": "d6126363-ec66-49f0-9ecd-b8e29a5b4b60",
   "metadata": {},
   "outputs": [
    {
     "name": "stdout",
     "output_type": "stream",
     "text": [
      "Classification Report:\n",
      "              precision    recall  f1-score   support\n",
      "\n",
      "           0       0.96      1.00      0.98       965\n",
      "           1       0.99      0.74      0.85       150\n",
      "\n",
      "    accuracy                           0.96      1115\n",
      "   macro avg       0.98      0.87      0.91      1115\n",
      "weighted avg       0.97      0.96      0.96      1115\n",
      "\n",
      "Confusion Matrix:\n"
     ]
    },
    {
     "data": {
      "image/png": "[encoded data removed]",
      "text/plain": [
       "<Figure size 640x480 with 2 Axes>"
      ]
     },
     "metadata": {},
     "output_type": "display_data"
    }
   ],
   "source": [
    "y_pred = model.predict(X_test)\n",
    "print(\"Classification Report:\")\n",
    "print(classification_report(y_test, y_pred))\n",
    "print(\"Confusion Matrix:\")\n",
    "sns.heatmap(confusion_matrix(y_test, y_pred), annot=True, fmt='d', cmap='Blues')\n",
    "plt.title('Confusion Matrix')\n",
    "plt.xlabel('Predicted Label')\n",
    "plt.ylabel('True Label')\n",
    "plt.show()\n",
    "\n"
   ]
  },
  {
   "cell_type": "code",
   "execution_count": 40,
   "id": "0bf7f2da-dfa7-4de9-af16-6b1dc9afae91",
   "metadata": {},
   "outputs": [
    {
     "name": "stdin",
     "output_type": "stream",
     "text": [
      "Enter a message to classify as spam or ham:  WINNER!! As a valued network customer you have been selected to receivea å£900 prize reward! To claim call 09061701461. Claim code KL341. Valid 12 hours only.\n"
     ]
    },
    {
     "name": "stdout",
     "output_type": "stream",
     "text": [
      "\n",
      "Your message: \"WINNER!! As a valued network customer you have been selected to receivea å£900 prize reward! To claim call 09061701461. Claim code KL341. Valid 12 hours only.\"\n",
      "Prediction: spam\n"
     ]
    }
   ],
   "source": [
    "custom_message = input(\"Enter a message to classify as spam or ham: \")\n",
    "custom_message_tfidf = tfidf.transform([custom_message])\n",
    "prediction = model.predict(custom_message_tfidf)[0]\n",
    "\n",
    "predicted_label = 'spam' if prediction == 1 else 'ham'\n",
    "print(f\"\\nYour message: \\\"{custom_message}\\\"\")\n",
    "print(f\"Prediction: {predicted_label}\")\n",
    "\n"
   ]
  },
  {
   "cell_type": "code",
   "execution_count": null,
   "id": "feb0b4f8-526a-4839-a7c4-d0bdef4d4167",
   "metadata": {},
   "outputs": [],
   "source": []
  },
  {
   "cell_type": "code",
   "execution_count": null,
   "id": "bd284470-7e08-4fd9-8eb8-fc988f2e2374",
   "metadata": {},
   "outputs": [],
   "source": []
  },
  {
   "cell_type": "code",
   "execution_count": null,
   "id": "85c97523-1d58-42b7-807f-26a7dab6cc40",
   "metadata": {},
   "outputs": [],
   "source": []
  }
 ],
 "metadata": {
  "kernelspec": {
   "display_name": "Python 3 (ipykernel)",
   "language": "python",
   "name": "python3"
  },
  "language_info": {
   "codemirror_mode": {
    "name": "ipython",
    "version": 3
   },
   "file_extension": ".py",
   "mimetype": "text/x-python",
   "name": "python",
   "nbconvert_exporter": "python",
   "pygments_lexer": "ipython3",
   "version": "3.12.7"
  }
 },
 "nbformat": 4,
 "nbformat_minor": 5
}
